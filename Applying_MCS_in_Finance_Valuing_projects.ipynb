{
  "nbformat": 4,
  "nbformat_minor": 0,
  "metadata": {
    "colab": {
      "name": "Applying MCS in Finance: Valuing projects",
      "provenance": [],
      "include_colab_link": true
    },
    "kernelspec": {
      "name": "python3",
      "display_name": "Python 3"
    }
  },
  "cells": [
    {
      "cell_type": "markdown",
      "metadata": {
        "id": "view-in-github",
        "colab_type": "text"
      },
      "source": [
        "<a href=\"https://colab.research.google.com/github/rp775/data-science-ipython-notebooks/blob/master/Applying_MCS_in_Finance_Valuing_projects.ipynb\" target=\"_parent\"><img src=\"https://colab.research.google.com/assets/colab-badge.svg\" alt=\"Open In Colab\"/></a>"
      ]
    },
    {
      "cell_type": "markdown",
      "metadata": {
        "id": "Tk6mAln6uC0a",
        "colab_type": "text"
      },
      "source": [
        "# Valuing a 6-month software development project"
      ]
    },
    {
      "cell_type": "markdown",
      "metadata": {
        "id": "SnFAQVsIjpSm",
        "colab_type": "text"
      },
      "source": [
        "# Net Present Value (NPV) method\n",
        "\n",
        "NPV is used extensively in corporations worldwide to value projects. Once you have forecasted the free cash flows of the project (FCF), you need to discount them back to the present at the appropriate risk adjusted discount rate (R). FCF equals cash from operations minus capital expenditures. The NPV formula is:\n",
        "\n",
        "NPV = FCF0 + FCF1/(1+R) + FCF2/(1+R)^2 + ...+ FCFn/(1+R)^n\n",
        "\n"
      ]
    },
    {
      "cell_type": "code",
      "metadata": {
        "id": "WsffDLAFPV90",
        "colab_type": "code",
        "colab": {}
      },
      "source": [
        "#Import modules\n",
        "import numpy as np\n",
        "from numpy import random as npr\n",
        "import pandas as pd\n",
        "import matplotlib.pyplot as plt\n",
        "plt.style.use('seaborn')"
      ],
      "execution_count": 0,
      "outputs": []
    },
    {
      "cell_type": "code",
      "metadata": {
        "id": "IeRvYefxDM8X",
        "colab_type": "code",
        "outputId": "5785c290-3810-4105-e3d7-98a4dce08345",
        "colab": {
          "base_uri": "https://localhost:8080/",
          "height": 297
        }
      },
      "source": [
        "#Specify model constants\n",
        "daily_rate = 400\n",
        "technology_charges = 1500\n",
        "overhead_charges = 2000\n",
        "tax_rate = 0.15\n",
        "\n",
        "#Specify model uncertainties\n",
        "n = 1000\n",
        "fte = npr.uniform(low=4, high=10, size=n)\n",
        "duration = npr.uniform(low=120, high=240, size=n)\n",
        "price = npr.normal(loc=100, scale=50, size=n)\n",
        "units = npr.normal(loc=10000, scale=5000, size=n)\n",
        "discount_rate = npr.uniform(low=0.06, high=0.10, size=n)\n",
        "\n",
        "#Specify risk factors and how they affect one another\n",
        "labor_costs = fte * daily_rate * duration\n",
        "technology_costs = fte * technology_charges\n",
        "overhead_costs = fte * overhead_charges\n",
        "revenues = price * units\n",
        "\n",
        "#Specify target_value\n",
        "free_cash_flow = (revenues - labor_costs - technology_costs - overhead_costs) * (1 - tax_rate)\n",
        "\n",
        "#Simulate projects NPV assuming initial FCF=0\n",
        "npv = free_cash_flow/(1 + discount_rate)\n",
        "\n",
        "#Convert numpy array to pandas dataframe for easier analysis\n",
        "NPV = pd.DataFrame(npv, columns=['NPV'])\n",
        "NPV.describe()"
      ],
      "execution_count": 0,
      "outputs": [
        {
          "output_type": "execute_result",
          "data": {
            "text/html": [
              "<div>\n",
              "<style scoped>\n",
              "    .dataframe tbody tr th:only-of-type {\n",
              "        vertical-align: middle;\n",
              "    }\n",
              "\n",
              "    .dataframe tbody tr th {\n",
              "        vertical-align: top;\n",
              "    }\n",
              "\n",
              "    .dataframe thead th {\n",
              "        text-align: right;\n",
              "    }\n",
              "</style>\n",
              "<table border=\"1\" class=\"dataframe\">\n",
              "  <thead>\n",
              "    <tr style=\"text-align: right;\">\n",
              "      <th></th>\n",
              "      <th>NPV</th>\n",
              "    </tr>\n",
              "  </thead>\n",
              "  <tbody>\n",
              "    <tr>\n",
              "      <th>count</th>\n",
              "      <td>1.000000e+03</td>\n",
              "    </tr>\n",
              "    <tr>\n",
              "      <th>mean</th>\n",
              "      <td>3.456055e+05</td>\n",
              "    </tr>\n",
              "    <tr>\n",
              "      <th>std</th>\n",
              "      <td>5.916339e+05</td>\n",
              "    </tr>\n",
              "    <tr>\n",
              "      <th>min</th>\n",
              "      <td>-1.095719e+06</td>\n",
              "    </tr>\n",
              "    <tr>\n",
              "      <th>25%</th>\n",
              "      <td>-8.151047e+04</td>\n",
              "    </tr>\n",
              "    <tr>\n",
              "      <th>50%</th>\n",
              "      <td>2.572211e+05</td>\n",
              "    </tr>\n",
              "    <tr>\n",
              "      <th>75%</th>\n",
              "      <td>6.674782e+05</td>\n",
              "    </tr>\n",
              "    <tr>\n",
              "      <th>max</th>\n",
              "      <td>2.773931e+06</td>\n",
              "    </tr>\n",
              "  </tbody>\n",
              "</table>\n",
              "</div>"
            ],
            "text/plain": [
              "                NPV\n",
              "count  1.000000e+03\n",
              "mean   3.456055e+05\n",
              "std    5.916339e+05\n",
              "min   -1.095719e+06\n",
              "25%   -8.151047e+04\n",
              "50%    2.572211e+05\n",
              "75%    6.674782e+05\n",
              "max    2.773931e+06"
            ]
          },
          "metadata": {
            "tags": []
          },
          "execution_count": 3
        }
      ]
    },
    {
      "cell_type": "code",
      "metadata": {
        "id": "PfFpof4OJY4E",
        "colab_type": "code",
        "outputId": "f894e7e4-ccb0-4fff-c109-916b7adefa55",
        "colab": {
          "base_uri": "https://localhost:8080/",
          "height": 376
        }
      },
      "source": [
        "#Plot histogram of NPV distribution\n",
        "plt.hist(NPV['NPV'], bins=10), plt.title ('Distribution of Project NPV'), plt.xlabel('Project NPV'), plt.ylabel('Frequency'), plt.show();"
      ],
      "execution_count": 0,
      "outputs": [
        {
          "output_type": "display_data",
          "data": {
            "image/png": "[encoded data removed]",
            "text/plain": [
              "<Figure size 576x396 with 1 Axes>"
            ]
          },
          "metadata": {
            "tags": []
          }
        }
      ]
    }
  ]
}