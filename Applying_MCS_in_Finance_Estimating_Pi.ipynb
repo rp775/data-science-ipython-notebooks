{
  "nbformat": 4,
  "nbformat_minor": 0,
  "metadata": {
    "colab": {
      "name": "Applying MCS in Finance: Estimating Pi",
      "provenance": [],
      "include_colab_link": true
    },
    "kernelspec": {
      "name": "python3",
      "display_name": "Python 3"
    }
  },
  "cells": [
    {
      "cell_type": "markdown",
      "metadata": {
        "id": "view-in-github",
        "colab_type": "text"
      },
      "source": [
        "<a href=\"https://colab.research.google.com/github/rp775/data-science-ipython-notebooks/blob/master/Applying_MCS_in_Finance_Estimating_Pi.ipynb\" target=\"_parent\"><img src=\"https://colab.research.google.com/assets/colab-badge.svg\" alt=\"Open In Colab\"/></a>"
      ]
    },
    {
      "cell_type": "markdown",
      "metadata": {
        "id": "oPGs_NIMwsG-",
        "colab_type": "text"
      },
      "source": [
        "# Estimating the value of Pi using MCS"
      ]
    },
    {
      "cell_type": "code",
      "metadata": {
        "id": "xwSJkywUwyI4",
        "colab_type": "code",
        "colab": {}
      },
      "source": [
        "#Import modules\n",
        "import numpy as np\n",
        "from numpy import random as npr"
      ],
      "execution_count": 0,
      "outputs": []
    },
    {
      "cell_type": "code",
      "metadata": {
        "id": "wef9uvS3oMo-",
        "colab_type": "code",
        "outputId": "55925bb4-f088-443d-8b6d-7c5171bdaba6",
        "colab": {
          "base_uri": "https://localhost:8080/",
          "height": 35
        }
      },
      "source": [
        "#Number of iterations in the simulation\n",
        "n = 1000000\n",
        "\n",
        "#Draw random points from a uniform distribution in the X-Y plane to fill the area of a square with length of 2 units\n",
        "x = npr.uniform(low=-1, high=1, size=n)\n",
        "y = npr.uniform(low=-1, high=1, size=n)\n",
        "\n",
        "#Compute distance from origin of any random sample point\n",
        "distance = np.sqrt(x**2 + y**2)\n",
        "\n",
        "#Points with a distance less than one unit from the origin will be within the area of the unit circle\n",
        "circle = distance[distance<=1]\n",
        "\n",
        "#Approximate Pi using the ratio of the area of circle to a square\n",
        "pi = 4.0*len(circle)/n\n",
        "\n",
        "#Estimate percentage error using the theoretical value of Pi\n",
        "error = ((pi-np.pi)/np.pi)*100\n",
        "\n",
        "print(\"After {0} simulations, our estimate of Pi is {1} with an error of {2}%\".format(n, pi, round(error,2)))"
      ],
      "execution_count": 0,
      "outputs": [
        {
          "output_type": "stream",
          "text": [
            "After 1000000 simulations, our estimate of Pi is 3.139988 with an error of -0.05%\n"
          ],
          "name": "stdout"
        }
      ]
    }
  ]
}